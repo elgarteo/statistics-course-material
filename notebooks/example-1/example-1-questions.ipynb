{
 "cells": [
  {
   "cell_type": "markdown",
   "metadata": {},
   "source": [
    "Example 1\n",
    "========="
   ]
  },
  {
   "cell_type": "markdown",
   "metadata": {},
   "source": [
    "Central limit theorem\n",
    "---------------------\n",
    "\n",
    "The Central Limit Theorem (CLT) tells us about the limiting distribution\n",
    "of the sample mean for distribution for an independent and identically\n",
    "distributed (IID) sample with a finite variance. It underpins many\n",
    "results in statistics and is important for reasoning about stochastic\n",
    "processes."
   ]
  },
  {
   "cell_type": "markdown",
   "metadata": {},
   "source": [
    "### Question\n",
    "\n",
    "Explain in simple terms what is the Central Limit Theorem?"
   ]
  },
  {
   "cell_type": "code",
   "execution_count": null,
   "metadata": {},
   "outputs": [],
   "source": [
    "Regardless of the distribution of the population, repeated random sampling will always result in a distribution close to normal. (converges towards the mean of the population)"
   ]
  },
  {
   "cell_type": "markdown",
   "metadata": {},
   "source": [
    "Example: CLT\n",
    "------------\n",
    "\n",
    "To see that the distribution of the sample mean converges to a normal\n",
    "distribution we will do a simulation study."
   ]
  },
  {
   "cell_type": "markdown",
   "metadata": {},
   "source": [
    "### Question\n",
    "\n",
    "Write down the distribution of the sample mean given an IID sample of\n",
    "exponential random variables with rate $1/5$."
   ]
  },
  {
   "cell_type": "code",
   "execution_count": null,
   "metadata": {},
   "outputs": [],
   "source": []
  },
  {
   "cell_type": "markdown",
   "metadata": {},
   "source": [
    "### Question\n",
    "\n",
    "1.  Generate 500 sample means each based on a sample of 100 exponential\n",
    "    random variables\n",
    "2.  Make a visualisation of the distribution of the data (e.g., a KDE or\n",
    "    histogram) and overlay the CLT approximation."
   ]
  },
  {
   "cell_type": "code",
   "execution_count": 15,
   "metadata": {},
   "outputs": [],
   "source": [
    "import numpy as np\n",
    "import random\n",
    "samples_means = [np.random.exponential(5, 100).mean() for i in range(500)]# rate is 0.5, scale is inverse of rate"
   ]
  },
  {
   "cell_type": "code",
   "execution_count": 49,
   "metadata": {},
   "outputs": [
    {
     "data": {
      "text/plain": [
       "<AxesSubplot:ylabel='Density'>"
      ]
     },
     "execution_count": 49,
     "metadata": {},
     "output_type": "execute_result"
    },
    {
     "data": {
      "image/png": "[encoded data removed]",
      "text/plain": [
       "<Figure size 432x288 with 1 Axes>"
      ]
     },
     "metadata": {
      "needs_background": "light"
     },
     "output_type": "display_data"
    }
   ],
   "source": [
    "import seaborn as sns\n",
    "\n",
    "sns.histplot(samples_mean, bins = 20, stat = \"density\")\n",
    "\n",
    "est_range = np.linspace(3, 7, 100)\n",
    "est_scale = 5 / np.sqrt(100)\n",
    "est_dist = stats.norm.pdf(est_range, loc = 5, scale = est_scale)\n",
    "sns.lineplot(x = est_range, y = est_dist, color = \"red\")"
   ]
  },
  {
   "cell_type": "markdown",
   "metadata": {},
   "source": [
    "Estimating the mean of a small sample\n",
    "-------------------------------------\n",
    "\n",
    "If we have a sample from a normal distribution with sample mean $\\bar{x}$ and known the standard deviation, $\\sigma$, the $(1-\\alpha)100\\%$ CI for the estimate of the mean is\n",
    "\n",
    "$$\n",
    "\\bar{x} \\pm z_{\\alpha / 2} \\frac{\\sigma}{\\sqrt{n}}\n",
    "$$"
   ]
  },
  {
   "cell_type": "markdown",
   "metadata": {},
   "source": [
    "### Question\n",
    "\n",
    "Simulate a set of 5 draws from a $N(1,1)$ distribution and, assuming the standard deviation is known, check if the $95\\%$ CI contains the true mean."
   ]
  },
  {
   "cell_type": "code",
   "execution_count": null,
   "metadata": {},
   "outputs": [],
   "source": []
  },
  {
   "cell_type": "markdown",
   "metadata": {},
   "source": [
    "### Question\n",
    "\n",
    "Now repeat this process 1000 times and check how many times it contains the true mean. Do you think the coverage of the CI will be correct?"
   ]
  },
  {
   "cell_type": "code",
   "execution_count": null,
   "metadata": {},
   "outputs": [],
   "source": []
  },
  {
   "cell_type": "markdown",
   "metadata": {},
   "source": [
    "### Question\n",
    "\n",
    "Now repeat this 1000-fold repetition using the sample standard deviation instead of the true standard deviation but treat it as though it is known, ie continue with $z_{\\alpha / 2}$. Do you think the coverage of the CI will be correct?"
   ]
  },
  {
   "cell_type": "markdown",
   "metadata": {},
   "source": [
    "### Question\n",
    "\n",
    "Now repeat this process while accounting for the uncertainty in the standard deviation, ie use the $t_{\\alpha / 2}$. How many degrees of freedom are there in the _t_-distribution? Do you think the coverage of the CI will be correct?"
   ]
  },
  {
   "cell_type": "markdown",
   "metadata": {},
   "source": [
    "Testing the hypothesis that a coin is fair\n",
    "------------------------------------------\n",
    "\n",
    "There is an election to choose between candidate _A_ and candidate _B_. To win the election a candidate needs to get the majority of the votes. Candidate _B_ declared victory but there is suspicion that they cheated. A random sample of $n$ ballots had $m$ votes for _A_. We want to know if we can reject the null hypothesis that _B_ did in fact win."
   ]
  },
  {
   "cell_type": "markdown",
   "metadata": {},
   "source": [
    "### Question\n",
    "\n",
    "Would we reject the null if $n=100$ and $m=70$? "
   ]
  },
  {
   "cell_type": "markdown",
   "metadata": {},
   "source": [
    "### Question\n",
    "\n",
    "If $n=100$, how small would $m$ need to be for us to not be able to reject the null using this test?"
   ]
  },
  {
   "cell_type": "markdown",
   "metadata": {},
   "source": [
    "Parameter estimation of the binomial distribution\n",
    "-------------------------------------------------\n",
    "\n",
    "We want to make an *estimate* the probability that a coin comes up\n",
    "heads. We also want to understand the level of confidence we have in\n",
    "this estimate; we use a *confidence interval* (CI) to describe the range\n",
    "of values we are confident the \\\"true\\\" probability of heads lies\n",
    "within.\n",
    "\n",
    "Binomial random variables can be used to model the number of times a\n",
    "coin comes up heads when flipped $n$ times. Let $X$ be a binomial random\n",
    "variable (RV) representing the number of heads that are observed when a\n",
    "coin is flipped $n$ times and the probability of coming up heads is $p$.\n",
    "We assume that $n$ is known but $p$ is unknown.\n",
    "\n",
    "The expected value of $X$, ie the average number of times that the coin\n",
    "comes up heads, is $np$. So a simple way to estimate $p$ is to divide\n",
    "the number of heads, $X$, by the number of flips, $n$. This gives the\n",
    "estimate\n",
    "\n",
    "$$\n",
    "\\hat{p} = X / n.\n",
    "$$\n",
    "\n",
    "This estimator is called the [the method of\n",
    "moments](https://en.wikipedia.org/wiki/Method_of_moments_(statistics)). This is\n",
    "also an example of a maximum likelihood estimate (MLE).\n",
    "\n",
    "Given an estimator, such as $\\hat{p}$, we usually want to quantify the\n",
    "uncertainty. One way to construct a CI is to approximate the sampling\n",
    "distribution by a normal distribution. It is a bit crude, but it is acceptable\n",
    "when we have lots of data. The estimated standard error of $\\hat{p}$ is\n",
    "$\\sqrt{\\hat{p}(1-\\hat{p})/n}$, so the CI is given by\n",
    "\n",
    "$$\n",
    "\\hat{p} \\pm z \\sqrt{\\frac{\\hat{p}(1-\\hat{p})}{n}}\n",
    "$$\n",
    "\n",
    "where $z$ is the appropriate quantile of the standard normal distribution. In\n",
    "the case of a $95\\%$ distribution this value is $1.96$."
   ]
  },
  {
   "cell_type": "markdown",
   "metadata": {},
   "source": [
    "### Question\n",
    "\n",
    "State the limitations on the estimator we are using for the CI."
   ]
  },
  {
   "cell_type": "markdown",
   "metadata": {},
   "source": [
    "### Question\n",
    "\n",
    "Implement a function called `estimate_and_ci` which takes two\n",
    "arguments: `num_trials` which is $n$ in the description above, and\n",
    "`num_success` which is $X$ above. The function should return\n",
    "`(p_hat,(ci_lower,ci_upper))` where `p_hat` is $\\hat{p}$ and\n",
    "`ci_x` are the limits of the $95\\%$ CI."
   ]
  },
  {
   "cell_type": "markdown",
   "metadata": {},
   "source": [
    "### Question\n",
    "\n",
    "Simulate a binomial random variable with $n=100$ and $p=0.6$. Then use\n",
    "the value and the `estimate_and_ci` function to see how well you\n",
    "can estimate $p$. Write a couple of sentences to explain this.\n",
    "\n",
    "Recall that in a previous example we have looked at how to simulate\n",
    "random variables using `scipy.stats`."
   ]
  },
  {
   "cell_type": "markdown",
   "metadata": {},
   "source": [
    "### Question\n",
    "\n",
    "Repeat the process from the previous question 100000 times and see what\n",
    "proportion of the CIs capture the true value of $p$. Is it what you\n",
    "expect? Write a couple of sentences to explain what you found."
   ]
  }
 ],
 "metadata": {
  "kernelspec": {
   "display_name": "Python 3 (ipykernel)",
   "language": "python",
   "name": "python3"
  },
  "language_info": {
   "codemirror_mode": {
    "name": "ipython",
    "version": 3
   },
   "file_extension": ".py",
   "mimetype": "text/x-python",
   "name": "python",
   "nbconvert_exporter": "python",
   "pygments_lexer": "ipython3",
   "version": "3.9.7"
  }
 },
 "nbformat": 4,
 "nbformat_minor": 4
}
